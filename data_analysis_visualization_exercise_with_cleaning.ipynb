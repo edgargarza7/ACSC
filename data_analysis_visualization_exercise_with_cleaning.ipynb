{
 "cells": [
  {
   "cell_type": "markdown",
   "id": "f85f3d85",
   "metadata": {},
   "source": [
    "\n",
    "# Session 2 Exercise: Data Analysis and Visualization with NumPy, pandas, and Matplotlib\n",
    "\n",
    "In this exercise, you will clean and analyze a dataset using NumPy, pandas, and matplotlib. This will allow you to:\n",
    "- Perform some data cleaning on the dataset.\n",
    "- Perform numerical operations with NumPy.\n",
    "- Load, explore, and filter data using pandas.\n",
    "- Visualize data trends with matplotlib.\n",
    "\n",
    "The dataset provided is `city_temperature_with_nan.csv` (https://drive.google.com/file/d/1-RF1x3N2aRyN9qcjZ1iANgcX2zr8BYr8/view?usp=sharing) with the following columns:\n",
    "- **City**: Name of the city.\n",
    "- **Date**: Date of the recorded temperature (YYYY-MM-DD).\n",
    "- **Temperature**: Recorded temperature in degrees Celsius (some missing values).\n",
    "- **Rainfall (mm)**: Recorded rainfall in millimeters (some missing values).\n",
    "- **Time Zone**: Time zone city is located.\n",
    "\n",
    "### Submission Instructions:\n",
    "1. Rename your notebook in the following format: lastname_firstname.ipynb\n",
    "2. Download your notebook from the dashboard to your local computer.\n",
    "3. Email your notebook to egarza@tacc.utexas.edu, use subject line: ACSC Session 2 Deliverable\n",
    "\n",
    "### Deadline to Submit\n",
    "- If you don't plan to attend the training session then you deadline is 10:00p CT, 9:00p MT, 8:00p PT, 7:00p AKT, 5:00p HT Wednesday (10/30/24).\n",
    "- For all others you can submit by 5:00p CT, 4:00p MT, 3:00p PT, 2:00p AKT, 12:00p HT Monday (11/04/24)\n"
   ]
  },
  {
   "cell_type": "markdown",
   "id": "9bcfdd24",
   "metadata": {},
   "source": [
    "## Pre Setup: importing necessary libraries"
   ]
  },
  {
   "cell_type": "code",
   "execution_count": null,
   "id": "a0dc2eeb",
   "metadata": {},
   "outputs": [],
   "source": [
    "\n",
    "# import any libraries that you will require to clean and analyze the dataset\n"
   ]
  },
  {
   "cell_type": "markdown",
   "id": "6ef4a1cc",
   "metadata": {},
   "source": [
    "\n",
    "## Part 0: Data Cleaning with pandas\n",
    "\n",
    "Before starting the analysis, we need to ensure our data is clean and free of inconsistencies. This is an essential step in data analysis to handle missing values and make sure our data is in a suitable format for analysis.\n",
    "\n",
    "### Task:\n",
    "1. Identify missing values in the dataset.\n",
    "2. Why do you think those values are missing? Write your hypothesis as a comment in the code.\n",
    "3. Apply the following methods to handle missing values:\n",
    "   - Method 1: Fill missing values in `Temperature` with a specific value (e.g., mean or median of the column) for each city.\n",
    "   - Method 2: Replace missing values in `Rain` with zero.\n",
    "4. Check for and remove any duplicate rows.\n",
    "\n",
    "Let's start by identifying missing values in the `Temperature` and `Rainfall (mm)` columns.\n"
   ]
  },
  {
   "cell_type": "code",
   "execution_count": null,
   "id": "b4a8c9b5",
   "metadata": {},
   "outputs": [],
   "source": [
    "\n",
    "# Load the dataset with NaN values\n"
   ]
  },
  {
   "cell_type": "code",
   "execution_count": null,
   "id": "9b153f2f",
   "metadata": {},
   "outputs": [],
   "source": [
    "\n",
    "# Take a look at a sample of 15 rows from the dataset\n"
   ]
  },
  {
   "cell_type": "code",
   "execution_count": null,
   "id": "1bd8553c",
   "metadata": {},
   "outputs": [],
   "source": [
    "\n",
    "# Display the number of missing values in each column\n",
    "\n"
   ]
  },
  {
   "cell_type": "code",
   "execution_count": null,
   "id": "0602ca39",
   "metadata": {},
   "outputs": [],
   "source": [
    "\n",
    "# Handling missing values\n",
    "# Option 1: Fill NaN values in Temperature with the mean value of the column\n"
   ]
  },
  {
   "cell_type": "code",
   "execution_count": null,
   "id": "8473ac19",
   "metadata": {},
   "outputs": [],
   "source": [
    "\n",
    "# Option 2: Fill NaN values in Rainfall with 0 (assuming no rainfall as a possible default)\n"
   ]
  },
  {
   "cell_type": "code",
   "execution_count": null,
   "id": "6cb0eb1d",
   "metadata": {},
   "outputs": [],
   "source": [
    "\n",
    "# Check for duplicates and remove them\n"
   ]
  },
  {
   "cell_type": "code",
   "execution_count": null,
   "id": "2f842eb6",
   "metadata": {},
   "outputs": [],
   "source": [
    "\n",
    "# Verify the data after cleaning, you can use a sample of 15 rows\n",
    "\n"
   ]
  },
  {
   "cell_type": "markdown",
   "id": "5932bde3",
   "metadata": {},
   "source": [
    "\n",
    "## Part 1: Numerical Analysis with NumPy\n",
    "\n",
    "First, we'll use NumPy to perform basic operations on the Temperature data.\n",
    "\n",
    "### Task:\n",
    "- Extract the Temperature column as a NumPy array.\n",
    "- Calculate the mean, minimum, maximum, and standard deviation of the temperatures.\n"
   ]
  },
  {
   "cell_type": "code",
   "execution_count": null,
   "id": "6a47a738",
   "metadata": {},
   "outputs": [],
   "source": [
    "\n",
    "# Convert the Temperature column to a NumPy array\n"
   ]
  },
  {
   "cell_type": "code",
   "execution_count": null,
   "id": "6ab2c072",
   "metadata": {},
   "outputs": [],
   "source": [
    "\n",
    "# Calculate statistics: mean_temp, min_temp, max_temp, std_temp\n"
   ]
  },
  {
   "cell_type": "code",
   "execution_count": null,
   "id": "6aa62627",
   "metadata": {},
   "outputs": [],
   "source": [
    "\n",
    "#print out your output\n"
   ]
  },
  {
   "cell_type": "markdown",
   "id": "4196b42b",
   "metadata": {},
   "source": [
    "\n",
    "## Part 2: Data Analysis with pandas\n",
    "\n",
    "In this section, we'll load and explore the dataset using pandas.\n",
    "\n",
    "### Task:\n",
    "- Display basic information and statistics on the dataset.\n",
    "- Calculate the mean temperature and total rainfall for each city.\n"
   ]
  },
  {
   "cell_type": "code",
   "execution_count": null,
   "id": "eb162fde",
   "metadata": {},
   "outputs": [],
   "source": [
    "\n",
    "# Display the first few rows\n"
   ]
  },
  {
   "cell_type": "code",
   "execution_count": null,
   "id": "512e1728",
   "metadata": {},
   "outputs": [],
   "source": [
    "\n",
    "# Display basic info and statistics\n",
    "\n"
   ]
  },
  {
   "cell_type": "code",
   "execution_count": null,
   "id": "aeb5ca5b",
   "metadata": {},
   "outputs": [],
   "source": [
    "\n",
    "# Calculate the mean temperature and total rainfall by city\n"
   ]
  },
  {
   "cell_type": "code",
   "execution_count": null,
   "id": "5960063b",
   "metadata": {},
   "outputs": [],
   "source": [
    "\n",
    "# print out your output\n",
    "\n"
   ]
  },
  {
   "cell_type": "markdown",
   "id": "6bf69f07",
   "metadata": {},
   "source": [
    "\n",
    "## Part 3: Filtering and Subsetting Data\n",
    "\n",
    "We will now filter the data to focus on specific records.\n",
    "\n",
    "### Task:\n",
    "- Filter records where temperature is above 25°C.\n",
    "- Subset data to only include records from a specific city (e.g., \"New York\").\n"
   ]
  },
  {
   "cell_type": "code",
   "execution_count": null,
   "id": "f8cb9980",
   "metadata": {},
   "outputs": [],
   "source": [
    "\n",
    "# Filter records where temperature is above 25°C\n",
    "\n"
   ]
  },
  {
   "cell_type": "code",
   "execution_count": null,
   "id": "ce612f1e",
   "metadata": {},
   "outputs": [],
   "source": [
    "\n",
    "# Filter records for a specific city (e.g., New York)\n",
    "\n"
   ]
  },
  {
   "cell_type": "markdown",
   "id": "7f9cc40d",
   "metadata": {},
   "source": [
    "\n",
    "## Part 4: Data Visualization with Matplotlib\n",
    "\n",
    "Visualize the data using matplotlib to identify trends and comparisons.\n",
    "\n",
    "### Task:\n",
    "- Plot the temperature trend over time for a specific city (e.g., \"New York\").\n",
    "- Create a bar chart comparing total rainfall across different cities.\n"
   ]
  },
  {
   "cell_type": "code",
   "execution_count": null,
   "id": "531e1338",
   "metadata": {},
   "outputs": [],
   "source": [
    "\n",
    "# import necessary libraries\n",
    "\n",
    "# Line plot for temperature trend over time (e.g., for New York)\n",
    "\n",
    "\n",
    "# Bar chart for total rainfall by city\n",
    "\n"
   ]
  },
  {
   "cell_type": "markdown",
   "id": "981f897d",
   "metadata": {},
   "source": [
    "\n",
    "## Summary\n",
    "\n",
    "In this exercise, you demonstrated how to:\n",
    "- Perform data cleaning with pandas.\n",
    "- Conduct numerical analysis with NumPy.\n",
    "- Explore and filter data with pandas.\n",
    "- Visualize data trends and comparisons with matplotlib.\n",
    "\n",
    "Complete each section and ensure the results are well-documented.\n",
    "\n",
    "### Submission Instructions:\n",
    "1. Rename your notebook in the following format: lastname_firstname.ipynb\n",
    "2. Download your notebook from the dashboard to your local computer.\n",
    "3. Email your notebook to egarza@tacc.utexas.edu, use subject line: ACSC Session 2 Deliverable\n",
    "\n",
    "### Deadline to Submit\n",
    "- If you don't plan to attend the training session then you deadline is 10:00p CT, 9:00p MT, 8:00p PT, 7:00p AKT, 5:00p HT Wednesday (10/30/24).\n",
    "- For all others you can submit by 5:00p CT, 4:00p MT, 3:00p PT, 2:00p AKT, 12:00p HT Monday (11/04/24)\n"
   ]
  }
 ],
 "metadata": {
  "kernelspec": {
   "display_name": "Python 3 (ipykernel)",
   "language": "python",
   "name": "python3"
  },
  "language_info": {
   "codemirror_mode": {
    "name": "ipython",
    "version": 3
   },
   "file_extension": ".py",
   "mimetype": "text/x-python",
   "name": "python",
   "nbconvert_exporter": "python",
   "pygments_lexer": "ipython3",
   "version": "3.11.4"
  }
 },
 "nbformat": 4,
 "nbformat_minor": 5
}
