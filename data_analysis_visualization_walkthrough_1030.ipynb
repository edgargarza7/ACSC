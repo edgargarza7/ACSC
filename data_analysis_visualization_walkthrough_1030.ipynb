{
 "cells": [
  {
   "cell_type": "markdown",
   "id": "b5daca2f",
   "metadata": {},
   "source": [
    "\n",
    "# Data Analysis and Visualization with NumPy, pandas, and Matplotlib ( walkthrough)\n",
    "\n",
    "In this notebook, we will walk through the basics of using NumPy, pandas, and matplotlib for data analysis and visualization. The goal is to demonstrate how to:\n",
    "- Manipulate numerical data using NumPy.\n",
    "- Load and analyze datasets using pandas.\n",
    "- Visualize data using matplotlib.\n"
   ]
  },
  {
   "cell_type": "markdown",
   "id": "38f12cc7",
   "metadata": {},
   "source": [
    "## Part 0.0: Importing Necessary Libraries\n",
    "\n",
    "In order to conduct data analysis and create visualization with Python and Jupyter Notebook you first must import any necessary Python libraries."
   ]
  },
  {
   "cell_type": "code",
   "execution_count": null,
   "id": "f2a53877",
   "metadata": {},
   "outputs": [],
   "source": [
    "\n",
    "# import necessary libraries to analyze and visualize data\n",
    "\n"
   ]
  },
  {
   "cell_type": "markdown",
   "id": "7922fefd",
   "metadata": {},
   "source": [
    "## Part 0.1: Loading the dataset\n",
    "\n",
    "We will load a CSV file, `synthetic_purchase_data.csv`, into a pandas DataFrame. This dataset includes columns like `Customer_ID, Purchase_Date`, `Product_Category`, `Amount_Spent`, `Quantity, and Payment_Type`, suitable for data analysis and cleaning exercises.\n"
   ]
  },
  {
   "cell_type": "code",
   "execution_count": null,
   "id": "81a68251",
   "metadata": {},
   "outputs": [],
   "source": [
    "\n",
    "#Create a DataFrame from the dataset\n",
    "\n"
   ]
  },
  {
   "cell_type": "code",
   "execution_count": null,
   "id": "2f6443ff",
   "metadata": {},
   "outputs": [],
   "source": [
    "\n",
    "# Display the first few rows of the DataFrame\n",
    "\n"
   ]
  },
  {
   "cell_type": "markdown",
   "id": "fa563b0f",
   "metadata": {},
   "source": [
    "\n",
    "## Part 1: Working with NumPy\n",
    "\n",
    "NumPy is a powerful Python library used for numerical computing. It provides support for large, multi-dimensional arrays and matrices, along with a collection of mathematical functions to operate on these arrays.\n",
    "\n",
    "### Task: Creating and Manipulating NumPy Arrays\n",
    "- Extract the `Amount Spent` column from the DataFrame as a NumPy array.\n",
    "- Calculate the following using NumPy:\n",
    "    - Mean, minimum, maximum, and standard deviation of the temperature data.\n"
   ]
  },
  {
   "cell_type": "code",
   "execution_count": null,
   "id": "4bbc75e4",
   "metadata": {},
   "outputs": [],
   "source": [
    "\n",
    "# Convert the Amount Spent column to a NumPy array\n",
    "\n"
   ]
  },
  {
   "cell_type": "code",
   "execution_count": null,
   "id": "3f17d9fa",
   "metadata": {},
   "outputs": [],
   "source": [
    "\n",
    "# Print the NumpY array\n",
    "\n"
   ]
  },
  {
   "cell_type": "code",
   "execution_count": null,
   "id": "d5dee30e",
   "metadata": {},
   "outputs": [],
   "source": [
    "\n",
    "# Calculate and print basic statistics using NumPy\n",
    "\n"
   ]
  },
  {
   "cell_type": "markdown",
   "id": "f9d7b5dd",
   "metadata": {},
   "source": [
    "\n",
    "## Part 2: Data Analysis with pandas\n",
    "\n",
    "pandas is a Python library used for working with structured data. It provides easy-to-use structures like DataFrames, which allow you to load, manipulate, and analyze datasets.\n",
    "\n",
    "### Task: Analyzing a Dataset with pandas\n",
    "The dataset has been uploaded, now we can perform basic data analysis, and visualize the data.\n"
   ]
  },
  {
   "cell_type": "code",
   "execution_count": null,
   "id": "75e7f4a3",
   "metadata": {},
   "outputs": [],
   "source": [
    "\n",
    "# Display the first few rows of the DataFrame\n",
    "\n"
   ]
  },
  {
   "cell_type": "code",
   "execution_count": null,
   "id": "776fd218",
   "metadata": {},
   "outputs": [],
   "source": [
    "\n",
    "# Display a sample size of 6 rows of the DataFrame\n",
    "\n"
   ]
  },
  {
   "cell_type": "code",
   "execution_count": null,
   "id": "6940981c",
   "metadata": {},
   "outputs": [],
   "source": [
    "\n",
    "# Perform basic statistics on the dataset\n",
    "\n",
    "\n"
   ]
  },
  {
   "cell_type": "code",
   "execution_count": null,
   "id": "089b423e",
   "metadata": {},
   "outputs": [],
   "source": [
    "\n",
    "# Print out the basic statistics\n",
    "\n",
    "\n"
   ]
  },
  {
   "cell_type": "markdown",
   "id": "0c55160a",
   "metadata": {},
   "source": [
    "\n",
    "## Part 3: Visualizing Data with Matplotlib\n",
    "\n",
    "Matplotlib is a popular library for creating static, animated, and interactive visualizations in Python. It works seamlessly with NumPy and pandas.\n",
    "\n",
    "### Task: Visualize the Amount Spent Data\n",
    "Here are a few ideas to visualize the synthetic purchase data using matplotlib. These visualizations provide insights into customer spending habits, product popularity, and payment preferences.\n",
    "\n",
    "Bar Plot for Product Categories:\n",
    "- Display the count of purchases for each product category.\n",
    "\n",
    "Histogram for Amount Spent:\n",
    "- Show the distribution of the Amount_Spent to understand the spending patterns.\n",
    "\n",
    "Pie Chart for Payment Types:\n",
    "- Visualize the proportion of each payment type.\n",
    "\n",
    "Time Series Plot for Purchases Over Time:\n",
    "- Show the trend of total spending over time.\n"
   ]
  },
  {
   "cell_type": "code",
   "execution_count": null,
   "id": "d5509eb2",
   "metadata": {},
   "outputs": [],
   "source": [
    "\n",
    "# Convert 'Purchase_Date' to datetime for time series plotting\n",
    "\n",
    "\n"
   ]
  },
  {
   "cell_type": "code",
   "execution_count": null,
   "id": "8e0d82ae",
   "metadata": {},
   "outputs": [],
   "source": [
    "\n",
    "# 1. Bar Plot: Shows how many purchases were made in each product category.\n",
    "\n",
    "\n"
   ]
  },
  {
   "cell_type": "code",
   "execution_count": null,
   "id": "f64aa71e",
   "metadata": {},
   "outputs": [],
   "source": [
    "\n",
    "# 2. Histogram: Illustrates the distribution of Amount_Spent, helping identify spending ranges.\n",
    "\n",
    "\n"
   ]
  },
  {
   "cell_type": "code",
   "execution_count": null,
   "id": "5d59162d",
   "metadata": {},
   "outputs": [],
   "source": [
    "\n",
    "# 3. Pie Chart: Displays the distribution of payment methods as a percentage.\n",
    "\n",
    "\n"
   ]
  },
  {
   "cell_type": "code",
   "execution_count": null,
   "id": "4d1d2381",
   "metadata": {},
   "outputs": [],
   "source": [
    "\n",
    "# 4. Time Series Plot: Tracks how spending fluctuates over time, which can be helpful in identifying trends.\n",
    "# Group by date and sum amount spent\n",
    "\n"
   ]
  },
  {
   "cell_type": "markdown",
   "id": "4660207d",
   "metadata": {},
   "source": [
    "\n",
    "## Summary\n",
    "\n",
    "In this notebook, we demonstrated how to:\n",
    "- Create and manipulate arrays using NumPy.\n",
    "- Load and analyze structured data using pandas.\n",
    "- Visualize data using matplotlib.\n",
    "\n",
    "By combining these tools, we can perform powerful data analysis and create meaningful visualizations.\n"
   ]
  }
 ],
 "metadata": {
  "kernelspec": {
   "display_name": "Python 3 (ipykernel)",
   "language": "python",
   "name": "python3"
  },
  "language_info": {
   "codemirror_mode": {
    "name": "ipython",
    "version": 3
   },
   "file_extension": ".py",
   "mimetype": "text/x-python",
   "name": "python",
   "nbconvert_exporter": "python",
   "pygments_lexer": "ipython3",
   "version": "3.11.4"
  }
 },
 "nbformat": 4,
 "nbformat_minor": 5
}
